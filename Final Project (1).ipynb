{
 "cells": [
  {
   "cell_type": "code",
   "execution_count": 243,
   "metadata": {},
   "outputs": [],
   "source": [
    "import pandas as pd\n",
    "import matplotlib.pyplot as plt\n",
    "import math\n",
    "import numpy as np\n",
    "import seaborn\n",
    "import sklearn\n",
    "from sklearn import linear_model\n",
    "from sklearn.svm import SVR\n",
    "from sklearn.preprocessing import PolynomialFeatures"
   ]
  },
  {
   "cell_type": "code",
   "execution_count": 244,
   "metadata": {},
   "outputs": [],
   "source": [
    "def yes_to_bool(data, col_lst):\n",
    "    for col in col_lst: \n",
    "        data[col] = data[col].map({'Yes':True, 'No':False})"
   ]
  },
  {
   "cell_type": "code",
   "execution_count": 258,
   "metadata": {},
   "outputs": [],
   "source": [
    "et = pd.read_excel('Everytown-mass-shootings-data_2008-2019_19.12.04-1-1.xlsx')\n",
    "et.rename(columns=et.iloc[6], inplace=True)\n",
    "et.drop(index=range(0,7), inplace=True)\n",
    "\n",
    "et.drop(['Females killed', 'Males killed', 'ID',\n",
    "       'Children and teens killed (0-19)', 'Law enforcement killed',\n",
    "       'Law enforcement wounded', 'Shooter 1 outcome', 'Shooter 2 age',\n",
    "       'Shooter 2 gender', 'Shooter 2 prohibited', 'Shooter 2 outcome',\n",
    "       'Shooter 3 age', 'Shooter 3 gender', 'Shooter 3 prohibited',\n",
    "       'Shooter 3 outcome', 'Shooter 4 age', 'Shooter 4 gender',\n",
    "       'Shooter 4 prohibited', 'Shooter 4 outcome',\n",
    "       'Any shooter prohibited from posessing gun',\n",
    "       'Any shooter killed intimate partner or family', 'Shooting Location',\n",
    "       'Narrative','High-capacity magazine', 'Workplace (public)',\n",
    "       'Place of business (public)', 'Other (public)',\n",
    "       'Any shooter prior history of DV', 'Gun unknown'], axis=1, inplace=True)\n",
    "\n",
    "et.rename(columns={\n",
    "    'Total people shot (killed or injured)':'Total Victims',\n",
    "    'People killed ':'Fatalities',\n",
    "    'People wounded':'Injured',\n",
    "    'Long guns (other rifles & shotguns)':'Long guns',\n",
    "    'Any shooter displayed dangerous warning signs':'Mental Health Issues',\n",
    "    'Shooter 1 age':'Age',\n",
    "    'Shooter 1 gender':'Gender', \n",
    "    'Shooter 1 prohibited':'Legal Weapon',\n",
    "    'School (public)':'School Related'}, inplace=True)\n",
    "\n",
    "yes_to_bool(et, ['Legal Weapon','School Related','Mental Health Issues'])\n",
    "et['Legal Weapon'] = ~(et['Legal Weapon'].astype(bool))"
   ]
  },
  {
   "cell_type": "code",
   "execution_count": 270,
   "metadata": {},
   "outputs": [],
   "source": [
    "mj = pd.read_csv('Mother Jones - Mass Shootings Database, 1982 - 2019 - Sheet1.csv')\n",
    "\n",
    "tmp = mj[\"location\"].str.split(\", \", n = 1, expand = True) \n",
    "mj['City'] = tmp[0]\n",
    "mj['State'] = tmp[1]\n",
    "\n",
    "mj.drop(['summary',\n",
    "         'mental_health_details',\n",
    "         'location',\n",
    "         'location.1',\n",
    "         'where_obtained',\n",
    "         'weapon_details',\n",
    "         'sources',\n",
    "         'year',\n",
    "         'mental_health_sources', \n",
    "         'sources_additional_age',\n",
    "         'type'], axis=1, inplace=True)\n",
    "\n",
    "mj.rename(columns={\n",
    "    'case':'Title', \n",
    "    'date':'Date',\n",
    "    'fatalities':'Fatalities', \n",
    "    'injured':'Injured', \n",
    "    'total_victims':'Total Victims',\n",
    "    'age_of_shooter':'Age',\n",
    "    'prior_signs_mental_health_issues':'Mental Health Issues',\n",
    "    'weapons_obtained_legally':'Legal Weapon',\n",
    "    'weapon_type':'Weapon Type',\n",
    "    'race':'Race',\n",
    "    'gender':'Gender',\n",
    "    'latitude':'Latitude',\n",
    "    'longitude':'Longitude',}, inplace=True)\n",
    "\n",
    "yes_to_bool(mj, ['Mental Health Issues','Legal Weapon'])"
   ]
  },
  {
   "cell_type": "code",
   "execution_count": 271,
   "metadata": {},
   "outputs": [],
   "source": [
    "st = pd.read_csv('mass-shootings-in-america.csv', sep=';')\n",
    "\n",
    "st['Long guns'] = st['Number of Rifles'] + st['Number of Shotguns']\n",
    "st['Assault weapon'] = st['Number of Automatic Guns'] + st['Number of Semi-Automatic Guns']\n",
    "\n",
    "st.drop(['CaseID',\n",
    "         'Location',\n",
    "         'Shooter Name',\n",
    "         'Number of Victim Fatalities',\n",
    "         'Day of Week',\n",
    "         'Description',\n",
    "         'Date - Detailed',\n",
    "         'Average Shooter Age',\n",
    "         'Fate of Shooter at the scene',\n",
    "         \"Shooter's Cause of Death\",\n",
    "         'Place Type',\n",
    "         'Relationship to Incident Location',\n",
    "         'Type of Gun - Detailed',\n",
    "         'Targeted Victim/s - Detailed', \n",
    "         'Targeted Victim/s - General',\n",
    "         'Possible Motive - Detailed',\n",
    "         'Possible Motive - General',\n",
    "         'History of Mental Illness - Detailed',\n",
    "         'Data Source 1',\n",
    "         'Data Source 2',\n",
    "         'Data Source 3', \n",
    "         'Data Source 4', \n",
    "         'Data Source 5', \n",
    "         'Data Source 6',\n",
    "         'Data Source 7', \n",
    "         'Number of Shotguns',\n",
    "         'Number of Rifles',\n",
    "         'Number of Automatic Guns', \n",
    "         'Number of Semi-Automatic Guns',\n",
    "         'Military Experience', \n",
    "         'Class', \n",
    "         'geopoint'], axis=1, inplace=True)\n",
    "\n",
    "st.rename(columns={\n",
    "    'Total Number of Fatalities':'Fatalities',\n",
    "    'Number of Victims Injured':'Injured',\n",
    "    'Total Number of Victims':'Total Victims',\n",
    "    'Shooter Age(s)':'Age',\n",
    "    'Shooter Sex':'Gender',\n",
    "    'Shooter Race':'Race',\n",
    "    'History of Mental Illness - General':'Mental Health Issues',\n",
    "    'Type of Gun - General':'Weapon Type',\n",
    "    'Number of Handguns':'Handgun',\n",
    "#     'Number of Shotguns':'Shotgun',\n",
    "#     'Number of Rifles':'Rifle',\n",
    "#     'Number of Automatic Guns':'Automatic', \n",
    "#     'Number of Semi-Automatic Guns':'Semi-Automatic',\n",
    "    'Total Number of Guns':'Total Guns'}, inplace=True)\n",
    "\n",
    "yes_to_bool(st, ['School Related','Mental Health Issues'])"
   ]
  },
  {
   "cell_type": "code",
   "execution_count": 272,
   "metadata": {},
   "outputs": [
    {
     "data": {
      "text/html": [
       "<div>\n",
       "<style scoped>\n",
       "    .dataframe tbody tr th:only-of-type {\n",
       "        vertical-align: middle;\n",
       "    }\n",
       "\n",
       "    .dataframe tbody tr th {\n",
       "        vertical-align: top;\n",
       "    }\n",
       "\n",
       "    .dataframe thead th {\n",
       "        text-align: right;\n",
       "    }\n",
       "</style>\n",
       "<table border=\"1\" class=\"dataframe\">\n",
       "  <thead>\n",
       "    <tr style=\"text-align: right;\">\n",
       "      <th></th>\n",
       "      <th>Title</th>\n",
       "      <th>City</th>\n",
       "      <th>State</th>\n",
       "      <th>Latitude</th>\n",
       "      <th>Longitude</th>\n",
       "      <th>Fatalities</th>\n",
       "      <th>Injured</th>\n",
       "      <th>Total Victims</th>\n",
       "      <th>Date</th>\n",
       "      <th>Age</th>\n",
       "      <th>Gender</th>\n",
       "      <th>Race</th>\n",
       "      <th>Weapon Type</th>\n",
       "      <th>Handgun</th>\n",
       "      <th>Total Guns</th>\n",
       "      <th>School Related</th>\n",
       "      <th>Mental Health Issues</th>\n",
       "      <th>Long guns</th>\n",
       "      <th>Assault weapon</th>\n",
       "      <th>Legal Weapon</th>\n",
       "    </tr>\n",
       "  </thead>\n",
       "  <tbody>\n",
       "    <tr>\n",
       "      <td>0</td>\n",
       "      <td>Radisson Bay Harbor Inn</td>\n",
       "      <td>Tampa</td>\n",
       "      <td>Florida</td>\n",
       "      <td>27.996019</td>\n",
       "      <td>-82.445038</td>\n",
       "      <td>5</td>\n",
       "      <td>3</td>\n",
       "      <td>8</td>\n",
       "      <td>1999-12-30</td>\n",
       "      <td>36</td>\n",
       "      <td>Male</td>\n",
       "      <td>Some other race</td>\n",
       "      <td>Handgun</td>\n",
       "      <td>2</td>\n",
       "      <td>2.0</td>\n",
       "      <td>False</td>\n",
       "      <td>False</td>\n",
       "      <td>0</td>\n",
       "      <td>2</td>\n",
       "      <td>NaN</td>\n",
       "    </tr>\n",
       "    <tr>\n",
       "      <td>1</td>\n",
       "      <td>Mojave High School Bus</td>\n",
       "      <td>Las Vegas</td>\n",
       "      <td>Nevada</td>\n",
       "      <td>36.189319</td>\n",
       "      <td>-115.326487</td>\n",
       "      <td>0</td>\n",
       "      <td>6</td>\n",
       "      <td>6</td>\n",
       "      <td>2007-12-11</td>\n",
       "      <td>18</td>\n",
       "      <td>Male</td>\n",
       "      <td>Black American or African American</td>\n",
       "      <td>Handgun</td>\n",
       "      <td>2</td>\n",
       "      <td>2.0</td>\n",
       "      <td>True</td>\n",
       "      <td>False</td>\n",
       "      <td>0</td>\n",
       "      <td>1</td>\n",
       "      <td>NaN</td>\n",
       "    </tr>\n",
       "    <tr>\n",
       "      <td>2</td>\n",
       "      <td>Oakland, Maine</td>\n",
       "      <td>Oakland</td>\n",
       "      <td>Maine</td>\n",
       "      <td>44.549947</td>\n",
       "      <td>-69.707823</td>\n",
       "      <td>4</td>\n",
       "      <td>0</td>\n",
       "      <td>3</td>\n",
       "      <td>2015-11-04</td>\n",
       "      <td>42</td>\n",
       "      <td>Male</td>\n",
       "      <td>Unknown</td>\n",
       "      <td>Handgun</td>\n",
       "      <td>1</td>\n",
       "      <td>1.0</td>\n",
       "      <td>False</td>\n",
       "      <td>NaN</td>\n",
       "      <td>0</td>\n",
       "      <td>NaN</td>\n",
       "      <td>NaN</td>\n",
       "    </tr>\n",
       "    <tr>\n",
       "      <td>3</td>\n",
       "      <td>Sherman, Texas</td>\n",
       "      <td>Sherman</td>\n",
       "      <td>Texas</td>\n",
       "      <td>33.635662</td>\n",
       "      <td>-96.608880</td>\n",
       "      <td>4</td>\n",
       "      <td>0</td>\n",
       "      <td>3</td>\n",
       "      <td>2016-03-21</td>\n",
       "      <td>36</td>\n",
       "      <td>Male</td>\n",
       "      <td>Unknown</td>\n",
       "      <td>Unknown</td>\n",
       "      <td>NaN</td>\n",
       "      <td>NaN</td>\n",
       "      <td>False</td>\n",
       "      <td>NaN</td>\n",
       "      <td>NaN</td>\n",
       "      <td>NaN</td>\n",
       "      <td>NaN</td>\n",
       "    </tr>\n",
       "    <tr>\n",
       "      <td>4</td>\n",
       "      <td>River Forest</td>\n",
       "      <td>River Forest</td>\n",
       "      <td>Illinois</td>\n",
       "      <td>41.894999</td>\n",
       "      <td>-87.819414</td>\n",
       "      <td>2</td>\n",
       "      <td>3</td>\n",
       "      <td>4</td>\n",
       "      <td>2015-07-12</td>\n",
       "      <td>24</td>\n",
       "      <td>Male</td>\n",
       "      <td>Unknown</td>\n",
       "      <td>Shotgun</td>\n",
       "      <td>0</td>\n",
       "      <td>1.0</td>\n",
       "      <td>False</td>\n",
       "      <td>NaN</td>\n",
       "      <td>1</td>\n",
       "      <td>NaN</td>\n",
       "      <td>NaN</td>\n",
       "    </tr>\n",
       "    <tr>\n",
       "      <td>...</td>\n",
       "      <td>...</td>\n",
       "      <td>...</td>\n",
       "      <td>...</td>\n",
       "      <td>...</td>\n",
       "      <td>...</td>\n",
       "      <td>...</td>\n",
       "      <td>...</td>\n",
       "      <td>...</td>\n",
       "      <td>...</td>\n",
       "      <td>...</td>\n",
       "      <td>...</td>\n",
       "      <td>...</td>\n",
       "      <td>...</td>\n",
       "      <td>...</td>\n",
       "      <td>...</td>\n",
       "      <td>...</td>\n",
       "      <td>...</td>\n",
       "      <td>...</td>\n",
       "      <td>...</td>\n",
       "      <td>...</td>\n",
       "    </tr>\n",
       "    <tr>\n",
       "      <td>612</td>\n",
       "      <td>Shopping centers spree killings</td>\n",
       "      <td>Palm Bay</td>\n",
       "      <td>Florida</td>\n",
       "      <td>28.033189</td>\n",
       "      <td>-80.642969</td>\n",
       "      <td>6</td>\n",
       "      <td>14</td>\n",
       "      <td>20</td>\n",
       "      <td>4/23/1987</td>\n",
       "      <td>59</td>\n",
       "      <td>Male</td>\n",
       "      <td>white</td>\n",
       "      <td>One rifle, one revolver, one shotgun</td>\n",
       "      <td>NaN</td>\n",
       "      <td>NaN</td>\n",
       "      <td>NaN</td>\n",
       "      <td>True</td>\n",
       "      <td>NaN</td>\n",
       "      <td>NaN</td>\n",
       "      <td>True</td>\n",
       "    </tr>\n",
       "    <tr>\n",
       "      <td>613</td>\n",
       "      <td>United States Postal Service shooting</td>\n",
       "      <td>Edmond</td>\n",
       "      <td>Oklahoma</td>\n",
       "      <td>35.667202</td>\n",
       "      <td>-97.429370</td>\n",
       "      <td>15</td>\n",
       "      <td>6</td>\n",
       "      <td>21</td>\n",
       "      <td>8/20/1986</td>\n",
       "      <td>44</td>\n",
       "      <td>Male</td>\n",
       "      <td>white</td>\n",
       "      <td>Three semiautomatic handguns</td>\n",
       "      <td>NaN</td>\n",
       "      <td>NaN</td>\n",
       "      <td>NaN</td>\n",
       "      <td>NaN</td>\n",
       "      <td>NaN</td>\n",
       "      <td>NaN</td>\n",
       "      <td>True</td>\n",
       "    </tr>\n",
       "    <tr>\n",
       "      <td>614</td>\n",
       "      <td>San Ysidro McDonald's massacre</td>\n",
       "      <td>San Ysidro</td>\n",
       "      <td>California</td>\n",
       "      <td>32.552001</td>\n",
       "      <td>-117.043081</td>\n",
       "      <td>22</td>\n",
       "      <td>19</td>\n",
       "      <td>41</td>\n",
       "      <td>7/18/1984</td>\n",
       "      <td>41</td>\n",
       "      <td>Male</td>\n",
       "      <td>white</td>\n",
       "      <td>One semiautomatic handgun, one rifle (assault)...</td>\n",
       "      <td>NaN</td>\n",
       "      <td>NaN</td>\n",
       "      <td>NaN</td>\n",
       "      <td>True</td>\n",
       "      <td>NaN</td>\n",
       "      <td>NaN</td>\n",
       "      <td>True</td>\n",
       "    </tr>\n",
       "    <tr>\n",
       "      <td>615</td>\n",
       "      <td>Dallas nightclub shooting</td>\n",
       "      <td>Dallas</td>\n",
       "      <td>Texas</td>\n",
       "      <td>32.925166</td>\n",
       "      <td>-96.838676</td>\n",
       "      <td>6</td>\n",
       "      <td>1</td>\n",
       "      <td>7</td>\n",
       "      <td>6/29/1984</td>\n",
       "      <td>39</td>\n",
       "      <td>Male</td>\n",
       "      <td>white</td>\n",
       "      <td>One semiautomatic handgun</td>\n",
       "      <td>NaN</td>\n",
       "      <td>NaN</td>\n",
       "      <td>NaN</td>\n",
       "      <td>True</td>\n",
       "      <td>NaN</td>\n",
       "      <td>NaN</td>\n",
       "      <td>False</td>\n",
       "    </tr>\n",
       "    <tr>\n",
       "      <td>616</td>\n",
       "      <td>Welding shop shooting</td>\n",
       "      <td>Miami</td>\n",
       "      <td>Florida</td>\n",
       "      <td>25.796491</td>\n",
       "      <td>-80.226683</td>\n",
       "      <td>8</td>\n",
       "      <td>3</td>\n",
       "      <td>11</td>\n",
       "      <td>8/20/1982</td>\n",
       "      <td>51</td>\n",
       "      <td>Male</td>\n",
       "      <td>white</td>\n",
       "      <td>One shotgun</td>\n",
       "      <td>NaN</td>\n",
       "      <td>NaN</td>\n",
       "      <td>NaN</td>\n",
       "      <td>True</td>\n",
       "      <td>NaN</td>\n",
       "      <td>NaN</td>\n",
       "      <td>True</td>\n",
       "    </tr>\n",
       "  </tbody>\n",
       "</table>\n",
       "<p>617 rows × 20 columns</p>\n",
       "</div>"
      ],
      "text/plain": [
       "                                     Title          City       State  \\\n",
       "0                  Radisson Bay Harbor Inn         Tampa     Florida   \n",
       "1                   Mojave High School Bus     Las Vegas      Nevada   \n",
       "2                           Oakland, Maine       Oakland       Maine   \n",
       "3                           Sherman, Texas       Sherman       Texas   \n",
       "4                             River Forest  River Forest    Illinois   \n",
       "..                                     ...           ...         ...   \n",
       "612        Shopping centers spree killings      Palm Bay     Florida   \n",
       "613  United States Postal Service shooting        Edmond    Oklahoma   \n",
       "614         San Ysidro McDonald's massacre    San Ysidro  California   \n",
       "615              Dallas nightclub shooting        Dallas       Texas   \n",
       "616                  Welding shop shooting         Miami     Florida   \n",
       "\n",
       "      Latitude   Longitude Fatalities Injured Total Victims        Date Age  \\\n",
       "0    27.996019  -82.445038          5       3             8  1999-12-30  36   \n",
       "1    36.189319 -115.326487          0       6             6  2007-12-11  18   \n",
       "2    44.549947  -69.707823          4       0             3  2015-11-04  42   \n",
       "3    33.635662  -96.608880          4       0             3  2016-03-21  36   \n",
       "4    41.894999  -87.819414          2       3             4  2015-07-12  24   \n",
       "..         ...         ...        ...     ...           ...         ...  ..   \n",
       "612  28.033189  -80.642969          6      14            20   4/23/1987  59   \n",
       "613  35.667202  -97.429370         15       6            21   8/20/1986  44   \n",
       "614  32.552001 -117.043081         22      19            41   7/18/1984  41   \n",
       "615  32.925166  -96.838676          6       1             7   6/29/1984  39   \n",
       "616  25.796491  -80.226683          8       3            11   8/20/1982  51   \n",
       "\n",
       "    Gender                                Race  \\\n",
       "0     Male                     Some other race   \n",
       "1     Male  Black American or African American   \n",
       "2     Male                             Unknown   \n",
       "3     Male                             Unknown   \n",
       "4     Male                             Unknown   \n",
       "..     ...                                 ...   \n",
       "612   Male                               white   \n",
       "613   Male                               white   \n",
       "614   Male                               white   \n",
       "615   Male                               white   \n",
       "616   Male                               white   \n",
       "\n",
       "                                           Weapon Type Handgun  Total Guns  \\\n",
       "0                                              Handgun       2         2.0   \n",
       "1                                              Handgun       2         2.0   \n",
       "2                                              Handgun       1         1.0   \n",
       "3                                              Unknown     NaN         NaN   \n",
       "4                                              Shotgun       0         1.0   \n",
       "..                                                 ...     ...         ...   \n",
       "612               One rifle, one revolver, one shotgun     NaN         NaN   \n",
       "613                       Three semiautomatic handguns     NaN         NaN   \n",
       "614  One semiautomatic handgun, one rifle (assault)...     NaN         NaN   \n",
       "615                          One semiautomatic handgun     NaN         NaN   \n",
       "616                                        One shotgun     NaN         NaN   \n",
       "\n",
       "    School Related Mental Health Issues Long guns Assault weapon Legal Weapon  \n",
       "0            False                False         0              2          NaN  \n",
       "1             True                False         0              1          NaN  \n",
       "2            False                  NaN         0            NaN          NaN  \n",
       "3            False                  NaN       NaN            NaN          NaN  \n",
       "4            False                  NaN         1            NaN          NaN  \n",
       "..             ...                  ...       ...            ...          ...  \n",
       "612            NaN                 True       NaN            NaN         True  \n",
       "613            NaN                  NaN       NaN            NaN         True  \n",
       "614            NaN                 True       NaN            NaN         True  \n",
       "615            NaN                 True       NaN            NaN        False  \n",
       "616            NaN                 True       NaN            NaN         True  \n",
       "\n",
       "[617 rows x 20 columns]"
      ]
     },
     "execution_count": 272,
     "metadata": {},
     "output_type": "execute_result"
    }
   ],
   "source": [
    "ag = pd.concat([st,et,mj], sort=False, ignore_index=True)\n",
    "ag"
   ]
  },
  {
   "cell_type": "code",
   "execution_count": 269,
   "metadata": {},
   "outputs": [],
   "source": [
    "data['DateTime'] = pd.to_datetime(data['Date'])\n",
    "data['year'] = data['DateTime'].dt.year"
   ]
  },
  {
   "cell_type": "code",
   "execution_count": 99,
   "metadata": {},
   "outputs": [
    {
     "data": {
      "text/plain": [
       "0   2019-12-06\n",
       "1   2019-08-31\n",
       "2   2019-08-04\n",
       "3   2019-08-03\n",
       "4   2019-07-28\n",
       "Name: DateTime, dtype: datetime64[ns]"
      ]
     },
     "execution_count": 99,
     "metadata": {},
     "output_type": "execute_result"
    }
   ],
   "source": [
    "data2['DateTime'] = pd.to_datetime(data2['date'])\n",
    "data2['year'] = data2['DateTime'].dt.year"
   ]
  },
  {
   "cell_type": "code",
   "execution_count": 106,
   "metadata": {},
   "outputs": [
    {
     "data": {
      "text/plain": [
       "<matplotlib.axes._subplots.AxesSubplot at 0x7f72c81b8e80>"
      ]
     },
     "execution_count": 106,
     "metadata": {},
     "output_type": "execute_result"
    },
    {
     "data": {
      "image/png": "[encoded data removed]",
      "text/plain": [
       "<Figure size 432x288 with 1 Axes>"
      ]
     },
     "metadata": {
      "needs_background": "light"
     },
     "output_type": "display_data"
    }
   ],
   "source": [
    "data[data['Total Number of Victims'] > 4].groupby(data['DateTime'].dt.year).size().plot()"
   ]
  },
  {
   "cell_type": "code",
   "execution_count": 100,
   "metadata": {},
   "outputs": [
    {
     "data": {
      "text/plain": [
       "<matplotlib.axes._subplots.AxesSubplot at 0x7f72c86a8400>"
      ]
     },
     "execution_count": 100,
     "metadata": {},
     "output_type": "execute_result"
    },
    {
     "data": {
      "image/png": "[encoded data removed]",
      "text/plain": [
       "<Figure size 432x288 with 1 Axes>"
      ]
     },
     "metadata": {
      "needs_background": "light"
     },
     "output_type": "display_data"
    }
   ],
   "source": [
    "fig, ax = plt.subplots()\n",
    "data.groupby(data['DateTime'].dt.year).size().plot(ax=ax)\n",
    "# data.groupby(data['DateTime'].dt.year)['Total Number of Fatalities'].mean().plot(ax=ax)\n",
    "# data.groupby(data['DateTime'].dt.year)['Total Number of Fatalities'].sum().plot(ax=ax)"
   ]
  },
  {
   "cell_type": "code",
   "execution_count": 95,
   "metadata": {},
   "outputs": [
    {
     "data": {
      "text/plain": [
       "<matplotlib.axes._subplots.AxesSubplot at 0x7f72c8688a20>"
      ]
     },
     "execution_count": 95,
     "metadata": {},
     "output_type": "execute_result"
    },
    {
     "data": {
      "image/png": "[encoded data removed]",
      "text/plain": [
       "<Figure size 432x288 with 1 Axes>"
      ]
     },
     "metadata": {
      "needs_background": "light"
     },
     "output_type": "display_data"
    }
   ],
   "source": [
    "mj.groupby(data2['DateTime'].dt.year).size().plot()"
   ]
  },
  {
   "cell_type": "code",
   "execution_count": 56,
   "metadata": {},
   "outputs": [],
   "source": [
    "lin_tab = data['year'].value_counts().reset_index().rename(columns={'index': 'year', 'year' : 'count'})\n",
    "lin_tab['std_count'] = (lin_tab['count'] - lin_tab['count'].min()) / (lin_tab['count'].max() - lin_tab['count'].min())"
   ]
  },
  {
   "cell_type": "code",
   "execution_count": 57,
   "metadata": {},
   "outputs": [
    {
     "data": {
      "text/html": [
       "<div>\n",
       "<style scoped>\n",
       "    .dataframe tbody tr th:only-of-type {\n",
       "        vertical-align: middle;\n",
       "    }\n",
       "\n",
       "    .dataframe tbody tr th {\n",
       "        vertical-align: top;\n",
       "    }\n",
       "\n",
       "    .dataframe thead th {\n",
       "        text-align: right;\n",
       "    }\n",
       "</style>\n",
       "<table border=\"1\" class=\"dataframe\">\n",
       "  <thead>\n",
       "    <tr style=\"text-align: right;\">\n",
       "      <th></th>\n",
       "      <th>year</th>\n",
       "      <th>count</th>\n",
       "      <th>std_count</th>\n",
       "    </tr>\n",
       "  </thead>\n",
       "  <tbody>\n",
       "    <tr>\n",
       "      <td>32</td>\n",
       "      <td>1966</td>\n",
       "      <td>2</td>\n",
       "      <td>0.014493</td>\n",
       "    </tr>\n",
       "    <tr>\n",
       "      <td>39</td>\n",
       "      <td>1971</td>\n",
       "      <td>1</td>\n",
       "      <td>0.000000</td>\n",
       "    </tr>\n",
       "    <tr>\n",
       "      <td>38</td>\n",
       "      <td>1972</td>\n",
       "      <td>1</td>\n",
       "      <td>0.000000</td>\n",
       "    </tr>\n",
       "    <tr>\n",
       "      <td>27</td>\n",
       "      <td>1974</td>\n",
       "      <td>2</td>\n",
       "      <td>0.014493</td>\n",
       "    </tr>\n",
       "    <tr>\n",
       "      <td>28</td>\n",
       "      <td>1976</td>\n",
       "      <td>2</td>\n",
       "      <td>0.014493</td>\n",
       "    </tr>\n",
       "  </tbody>\n",
       "</table>\n",
       "</div>"
      ],
      "text/plain": [
       "    year  count  std_count\n",
       "32  1966      2   0.014493\n",
       "39  1971      1   0.000000\n",
       "38  1972      1   0.000000\n",
       "27  1974      2   0.014493\n",
       "28  1976      2   0.014493"
      ]
     },
     "execution_count": 57,
     "metadata": {},
     "output_type": "execute_result"
    }
   ],
   "source": [
    "lin_tab = lin_tab.sort_values(by=['year'])\n",
    "lin_tab.head()"
   ]
  },
  {
   "cell_type": "code",
   "execution_count": 84,
   "metadata": {},
   "outputs": [
    {
     "data": {
      "text/plain": [
       "<matplotlib.collections.PathCollection at 0x7f72c84ef630>"
      ]
     },
     "execution_count": 84,
     "metadata": {},
     "output_type": "execute_result"
    },
    {
     "data": {
      "image/png": "[encoded data removed]",
      "text/plain": [
       "<Figure size 432x288 with 1 Axes>"
      ]
     },
     "metadata": {
      "needs_background": "light"
     },
     "output_type": "display_data"
    }
   ],
   "source": [
    "reg = linear_model.LinearRegression()\n",
    "arr = np.array([[y] for y in lin_tab['year']])\n",
    "fig, ax = plt.subplots()\n",
    "ax.plot(X, reg.fit(X, y).predict(X), lw=lw)\n",
    "ax.scatter(X,y)"
   ]
  },
  {
   "cell_type": "code",
   "execution_count": 59,
   "metadata": {},
   "outputs": [
    {
     "data": {
      "text/plain": [
       "array([35.48865028])"
      ]
     },
     "execution_count": 59,
     "metadata": {},
     "output_type": "execute_result"
    }
   ],
   "source": [
    "reg.predict([[2050]])"
   ]
  },
  {
   "cell_type": "code",
   "execution_count": 66,
   "metadata": {},
   "outputs": [],
   "source": [
    "X = np.array([[y] for y in lin_tab['year']])\n",
    "y = lin_tab['count']\n",
    "lw=2\n",
    "\n",
    "# svr = SVR(kernel='poly', C=100, gamma='auto', degree=3, epsilon=.1, coef0=1)\n",
    "svr = SVR(kernel='rbf', C=100, gamma=0.05, epsilon=.1)"
   ]
  },
  {
   "cell_type": "code",
   "execution_count": 67,
   "metadata": {},
   "outputs": [
    {
     "data": {
      "text/plain": [
       "<matplotlib.collections.PathCollection at 0x7f72c8a17eb8>"
      ]
     },
     "execution_count": 67,
     "metadata": {},
     "output_type": "execute_result"
    },
    {
     "data": {
      "image/png": "[encoded data removed]",
      "text/plain": [
       "<Figure size 432x288 with 1 Axes>"
      ]
     },
     "metadata": {
      "needs_background": "light"
     },
     "output_type": "display_data"
    }
   ],
   "source": [
    "fig, ax = plt.subplots()\n",
    "ax.plot(X, svr.fit(X, y).predict(X), lw=lw)\n",
    "ax.scatter(X,y)\n",
    "# ax.scatter(X[svr.support_], y[svr.support_], s=50,\n",
    "#                 label='{} support vectors'.format('Polynomial'))\n",
    "# ax.scatter(X[np.setdiff1d(np.arange(len(X)), svr.support_)],\n",
    "#             y[np.setdiff1d(np.arange(len(X)), svr.support_)],\n",
    "#                  facecolor=\"none\", edgecolor=\"k\", s=50)"
   ]
  },
  {
   "cell_type": "code",
   "execution_count": 68,
   "metadata": {},
   "outputs": [
    {
     "data": {
      "text/plain": [
       "[<matplotlib.lines.Line2D at 0x7f72c8be96a0>]"
      ]
     },
     "execution_count": 68,
     "metadata": {},
     "output_type": "execute_result"
    },
    {
     "data": {
      "image/png": "[encoded data removed]",
      "text/plain": [
       "<Figure size 432x288 with 1 Axes>"
      ]
     },
     "metadata": {
      "needs_background": "light"
     },
     "output_type": "display_data"
    }
   ],
   "source": [
    "plt.plot(X,y,'o')\n",
    "\n",
    "poly = PolynomialFeatures(degree=3)\n",
    "poly_years = poly.fit_transform(X)\n",
    "reg.fit(poly_years, y)\n",
    "\n",
    "poly_pred = reg.predict(poly_years)\n",
    "plt.plot(X,poly_pred)"
   ]
  },
  {
   "cell_type": "markdown",
   "metadata": {},
   "source": [
    "Number of shootings\n",
    "Deaths per shooting\n",
    "Race of Shooter\n",
    "Location (urban/suburban) (schools)\n",
    "Type of gun\n",
    "Mental illness\n",
    "Sex of shooter"
   ]
  }
 ],
 "metadata": {
  "kernelspec": {
   "display_name": "Python 3",
   "language": "python",
   "name": "python3"
  },
  "language_info": {
   "codemirror_mode": {
    "name": "ipython",
    "version": 3
   },
   "file_extension": ".py",
   "mimetype": "text/x-python",
   "name": "python",
   "nbconvert_exporter": "python",
   "pygments_lexer": "ipython3",
   "version": "3.7.3"
  }
 },
 "nbformat": 4,
 "nbformat_minor": 2
}
